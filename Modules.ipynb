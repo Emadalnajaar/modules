{
  "nbformat": 4,
  "nbformat_minor": 0,
  "metadata": {
    "colab": {
      "name": "Modules.ipynb",
      "provenance": [],
      "collapsed_sections": [
        "Ib4zkzaFhMxM",
        "ZBZjBmOSMh2s",
        "HQSEQfQLPtfl",
        "ZSN3rNT5eo2B"
      ],
      "authorship_tag": "ABX9TyO5AoEtjylshIyid9LXAfDk",
      "include_colab_link": true
    },
    "kernelspec": {
      "name": "python3",
      "display_name": "Python 3"
    }
  },
  "cells": [
    {
      "cell_type": "markdown",
      "metadata": {
        "id": "view-in-github",
        "colab_type": "text"
      },
      "source": [
        "<a href=\"https://colab.research.google.com/github/Emadalnajaar/modules/blob/master/Modules.ipynb\" target=\"_parent\"><img src=\"https://colab.research.google.com/assets/colab-badge.svg\" alt=\"Open In Colab\"/></a>"
      ]
    },
    {
      "cell_type": "markdown",
      "metadata": {
        "id": "SVNC30Ssx7FR",
        "colab_type": "text"
      },
      "source": [
        "# Load Data\n"
      ]
    },
    {
      "cell_type": "code",
      "metadata": {
        "id": "z5uGE1cizPxa",
        "colab_type": "code",
        "colab": {
          "base_uri": "https://localhost:8080/",
          "height": 50
        },
        "outputId": "ca7c6f60-cbfb-406e-b886-31a3c6fd671e"
      },
      "source": [
        "import datetime\n",
        "import numpy as np \n",
        "import matplotlib.pyplot as plt \n",
        "import pandas as pd\n",
        "import seaborn as sns\n",
        "from sklearn.datasets import load_iris #MultiClassifier   \n",
        "from sklearn.datasets import load_boston #Regression\n",
        "from sklearn.datasets import load_wine #MultiClassifier\n",
        "from sklearn.datasets import load_breast_cancer #BinaryClassifier\n",
        "from sklearn.datasets import load_diabetes #MultiClassifer\n",
        "from sklearn.metrics import confusion_matrix , classification_report"
      ],
      "execution_count": 1,
      "outputs": [
        {
          "output_type": "stream",
          "text": [
            "/usr/local/lib/python3.6/dist-packages/statsmodels/tools/_testing.py:19: FutureWarning: pandas.util.testing is deprecated. Use the functions in the public API at pandas.testing instead.\n",
            "  import pandas.util.testing as tm\n"
          ],
          "name": "stderr"
        }
      ]
    },
    {
      "cell_type": "markdown",
      "metadata": {
        "id": "Ib4zkzaFhMxM",
        "colab_type": "text"
      },
      "source": [
        "#Datasets"
      ]
    },
    {
      "cell_type": "code",
      "metadata": {
        "id": "OiKujyKSxxfS",
        "colab_type": "code",
        "colab": {}
      },
      "source": [
        "#Either\n",
        "X, y = load_breast_cancer(return_X_y=True)\n",
        "#OR\n",
        "dat= load_breast_cancer()\n",
        "X = dat.data\n",
        "y = dat.target\n",
        "\n",
        "dat.feature_names\n",
        "sns.countplot(y)"
      ],
      "execution_count": 0,
      "outputs": []
    },
    {
      "cell_type": "code",
      "metadata": {
        "id": "as8yKWF8zFI6",
        "colab_type": "code",
        "colab": {
          "base_uri": "https://localhost:8080/",
          "height": 1000
        },
        "outputId": "ba428fb9-82b3-41c9-ea36-09ae021f4218"
      },
      "source": [
        "from sklearn.datasets import load_digits #MultiClassifier\n",
        "dat= load_digits()\n",
        "X = dat.data\n",
        "y = dat.target\n",
        "plt.gray()\n",
        "n = 3\n",
        "for ima in range(n):\n",
        "  print(ima)\n",
        "  plt.matshow(dat.images[ima])\n",
        "  plt.show()\n",
        "sns.countplot(y)"
      ],
      "execution_count": 68,
      "outputs": [
        {
          "output_type": "stream",
          "text": [
            "0\n"
          ],
          "name": "stdout"
        },
        {
          "output_type": "display_data",
          "data": {
            "text/plain": [
              "<Figure size 432x288 with 0 Axes>"
            ]
          },
          "metadata": {
            "tags": []
          }
        },
        {
          "output_type": "display_data",
          "data": {
            "image/png": "[encoded data removed]",
            "text/plain": [
              "<Figure size 288x288 with 1 Axes>"
            ]
          },
          "metadata": {
            "tags": [],
            "needs_background": "light"
          }
        },
        {
          "output_type": "stream",
          "text": [
            "1\n"
          ],
          "name": "stdout"
        },
        {
          "output_type": "display_data",
          "data": {
            "image/png": "[encoded data removed]",
            "text/plain": [
              "<Figure size 288x288 with 1 Axes>"
            ]
          },
          "metadata": {
            "tags": [],
            "needs_background": "light"
          }
        },
        {
          "output_type": "stream",
          "text": [
            "2\n"
          ],
          "name": "stdout"
        },
        {
          "output_type": "display_data",
          "data": {
            "image/png": "[encoded data removed]",
            "text/plain": [
              "<Figure size 288x288 with 1 Axes>"
            ]
          },
          "metadata": {
            "tags": [],
            "needs_background": "light"
          }
        },
        {
          "output_type": "execute_result",
          "data": {
            "text/plain": [
              "<matplotlib.axes._subplots.AxesSubplot at 0x7f98ef4b6eb8>"
            ]
          },
          "metadata": {
            "tags": []
          },
          "execution_count": 68
        },
        {
          "output_type": "display_data",
          "data": {
            "image/png": "[encoded data removed]",
            "text/plain": [
              "<Figure size 432x288 with 1 Axes>"
            ]
          },
          "metadata": {
            "tags": [],
            "needs_background": "light"
          }
        }
      ]
    },
    {
      "cell_type": "code",
      "metadata": {
        "id": "tlhTfLhi0Z0f",
        "colab_type": "code",
        "colab": {
          "base_uri": "https://localhost:8080/",
          "height": 245
        },
        "outputId": "be1c72ee-6dbf-4cd0-d01a-76a3799763b3"
      },
      "source": [
        "from sklearn.datasets import make_regression \n",
        "X,y = make_regression(n_samples=10000, n_features = 500 , shuffle = True)\n",
        "print(X.shape , y.shape)\n",
        "X[:10]"
      ],
      "execution_count": 87,
      "outputs": [
        {
          "output_type": "stream",
          "text": [
            "(10000, 500) (10000,)\n"
          ],
          "name": "stdout"
        },
        {
          "output_type": "execute_result",
          "data": {
            "text/plain": [
              "array([[-1.42771665,  0.07647808,  0.11413718, ...,  0.25062562,\n",
              "        -0.5769087 , -0.44143802],\n",
              "       [-0.78291687, -0.42962431, -1.99185055, ..., -0.03168753,\n",
              "        -0.06793291,  0.93706584],\n",
              "       [ 1.15169046, -1.5312303 , -1.20095176, ..., -1.05178643,\n",
              "        -0.26785952, -0.64245586],\n",
              "       ...,\n",
              "       [-0.48827306,  0.51854247, -0.052461  , ..., -0.26209603,\n",
              "         0.15673153, -0.38997239],\n",
              "       [ 0.88141744, -0.83142166, -0.94460958, ...,  0.82551235,\n",
              "        -0.62383923,  1.11237591],\n",
              "       [-0.04023741,  1.80677907,  0.46707545, ..., -0.64152983,\n",
              "        -0.62212026, -0.868323  ]])"
            ]
          },
          "metadata": {
            "tags": []
          },
          "execution_count": 87
        }
      ]
    },
    {
      "cell_type": "code",
      "metadata": {
        "id": "dfLHcNKIMgWU",
        "colab_type": "code",
        "colab": {
          "base_uri": "https://localhost:8080/",
          "height": 297
        },
        "outputId": "ec7dd7c2-f084-46d4-8441-e91b9d911179"
      },
      "source": [
        "from sklearn.datasets import make_classification #two classes\n",
        "X,y = make_classification(n_samples=100, n_features = 20 , shuffle = True)\n",
        "print(X.shape , y.shape)\n",
        "sns.countplot(y)"
      ],
      "execution_count": 90,
      "outputs": [
        {
          "output_type": "stream",
          "text": [
            "(100, 20) (100,)\n"
          ],
          "name": "stdout"
        },
        {
          "output_type": "execute_result",
          "data": {
            "text/plain": [
              "<matplotlib.axes._subplots.AxesSubplot at 0x7f98ef1a8400>"
            ]
          },
          "metadata": {
            "tags": []
          },
          "execution_count": 90
        },
        {
          "output_type": "display_data",
          "data": {
            "image/png": "[encoded data removed]",
            "text/plain": [
              "<Figure size 432x288 with 1 Axes>"
            ]
          },
          "metadata": {
            "tags": [],
            "needs_background": "light"
          }
        }
      ]
    },
    {
      "cell_type": "code",
      "metadata": {
        "id": "BzeqYbNoMgIi",
        "colab_type": "code",
        "colab": {
          "base_uri": "https://localhost:8080/",
          "height": 285
        },
        "outputId": "52c9aa5c-419b-4075-fd53-e5ec350b36ff"
      },
      "source": [
        "from sklearn.datasets import load_sample_image #image\n",
        "china = load_sample_image('china.jpg') #flower\n",
        "china.dtype\n",
        "china.shape\n",
        "plt.imshow(china)\n"
      ],
      "execution_count": 95,
      "outputs": [
        {
          "output_type": "execute_result",
          "data": {
            "text/plain": [
              "<matplotlib.image.AxesImage at 0x7f98ec5106a0>"
            ]
          },
          "metadata": {
            "tags": []
          },
          "execution_count": 95
        },
        {
          "output_type": "display_data",
          "data": {
            "image/png": "[encoded data removed]",
            "text/plain": [
              "<Figure size 432x288 with 1 Axes>"
            ]
          },
          "metadata": {
            "tags": [],
            "needs_background": "light"
          }
        }
      ]
    },
    {
      "cell_type": "markdown",
      "metadata": {
        "id": "ZBZjBmOSMh2s",
        "colab_type": "text"
      },
      "source": [
        "#Cleaning data and missing values  "
      ]
    },
    {
      "cell_type": "code",
      "metadata": {
        "id": "vcULXCp3pz6R",
        "colab_type": "code",
        "colab": {}
      },
      "source": [
        "from sklearn.impute import SimpleImputer"
      ],
      "execution_count": 0,
      "outputs": []
    },
    {
      "cell_type": "code",
      "metadata": {
        "id": "2rSr_K2kq5Jg",
        "colab_type": "code",
        "colab": {
          "base_uri": "https://localhost:8080/",
          "height": 0
        },
        "outputId": "dd584910-ba81-41ff-e3b1-1f47d4dca063"
      },
      "source": [
        "data = [[1,2,np.nan],\n",
        "        [3,np.nan,4],\n",
        "        [1,2,3],\n",
        "        [5,2,np.nan]]\n",
        "var =  np.nan # you can used any values need replace , example : 0,np.nan,x\n",
        "impute = SimpleImputer(missing_values = var , strategy = 'mean').fit_transform(data)\n",
        "print(impute)\n",
        "# strategy = mean, median, most_frequent\n",
        "#wrong : space "
      ],
      "execution_count": 18,
      "outputs": [
        {
          "output_type": "stream",
          "text": [
            "[[1.  2.  3.5]\n",
            " [3.  2.  4. ]\n",
            " [1.  2.  3. ]\n",
            " [5.  2.  3.5]]\n"
          ],
          "name": "stdout"
        }
      ]
    },
    {
      "cell_type": "markdown",
      "metadata": {
        "id": "S6jZwWFUvNRE",
        "colab_type": "text"
      },
      "source": [
        "**اذا اردت انت تملئ الحقول الفارغة بقيمة معينة**"
      ]
    },
    {
      "cell_type": "code",
      "metadata": {
        "id": "L3NKar2VuYrZ",
        "colab_type": "code",
        "colab": {
          "base_uri": "https://localhost:8080/",
          "height": 0
        },
        "outputId": "9928c163-0013-49c3-c2c9-224abb57684b"
      },
      "source": [
        "data = [[1,2,np.nan],\n",
        "        [3,np.nan,4],\n",
        "        [1,2,3],\n",
        "        [5,2,np.nan]]\n",
        "imp = SimpleImputer( strategy='constant' , fill_value = 10).fit_transform(data)\n",
        "print(imp)"
      ],
      "execution_count": 15,
      "outputs": [
        {
          "output_type": "stream",
          "text": [
            "[[ 1.  2. 10.]\n",
            " [ 3. 10.  4.]\n",
            " [ 1.  2.  3.]\n",
            " [ 5.  2. 10.]]\n"
          ],
          "name": "stdout"
        }
      ]
    },
    {
      "cell_type": "code",
      "metadata": {
        "id": "IpUYce00s2CU",
        "colab_type": "code",
        "colab": {
          "base_uri": "https://localhost:8080/",
          "height": 0
        },
        "outputId": "6eca7ba6-e23b-4e0a-bddb-d3ee3d3afe1d"
      },
      "source": [
        "dataset = load_breast_cancer()\n",
        "X = dataset.data\n",
        "y = dataset.target\n",
        "imputelbc = SimpleImputer(missing_values = np.nan , strategy = 'median').fit_transform(X)\n",
        "print(imputelbc)"
      ],
      "execution_count": 16,
      "outputs": [
        {
          "output_type": "stream",
          "text": [
            "[[1.799e+01 1.038e+01 1.228e+02 ... 2.654e-01 4.601e-01 1.189e-01]\n",
            " [2.057e+01 1.777e+01 1.329e+02 ... 1.860e-01 2.750e-01 8.902e-02]\n",
            " [1.969e+01 2.125e+01 1.300e+02 ... 2.430e-01 3.613e-01 8.758e-02]\n",
            " ...\n",
            " [1.660e+01 2.808e+01 1.083e+02 ... 1.418e-01 2.218e-01 7.820e-02]\n",
            " [2.060e+01 2.933e+01 1.401e+02 ... 2.650e-01 4.087e-01 1.240e-01]\n",
            " [7.760e+00 2.454e+01 4.792e+01 ... 0.000e+00 2.871e-01 7.039e-02]]\n"
          ],
          "name": "stdout"
        }
      ]
    },
    {
      "cell_type": "code",
      "metadata": {
        "id": "297cGSUlrsvw",
        "colab_type": "code",
        "colab": {
          "base_uri": "https://localhost:8080/",
          "height": 0
        },
        "outputId": "2c8a3e21-f6da-4039-cb1c-d1558ed90a19"
      },
      "source": [
        "imputermodel = SimpleImputer(missing_values= 0 , strategy = 'most_frequent').fit_transform(X) ; print(imputermodel)"
      ],
      "execution_count": 26,
      "outputs": [
        {
          "output_type": "stream",
          "text": [
            "[[1.799e+01 1.038e+01 1.228e+02 ... 2.654e-01 4.601e-01 1.189e-01]\n",
            " [2.057e+01 1.777e+01 1.329e+02 ... 1.860e-01 2.750e-01 8.902e-02]\n",
            " [1.969e+01 2.125e+01 1.300e+02 ... 2.430e-01 3.613e-01 8.758e-02]\n",
            " ...\n",
            " [1.660e+01 2.808e+01 1.083e+02 ... 1.418e-01 2.218e-01 7.820e-02]\n",
            " [2.060e+01 2.933e+01 1.401e+02 ... 2.650e-01 4.087e-01 1.240e-01]\n",
            " [7.760e+00 2.454e+01 4.792e+01 ... 2.564e-02 2.871e-01 7.039e-02]]\n"
          ],
          "name": "stdout"
        }
      ]
    },
    {
      "cell_type": "code",
      "metadata": {
        "id": "v8cxtYZjgplF",
        "colab_type": "code",
        "colab": {
          "base_uri": "https://localhost:8080/",
          "height": 0
        },
        "outputId": "81c300c9-7303-4b08-de78-785beefdc0a0"
      },
      "source": [
        "from sklearn.preprocessing import PolynomialFeatures\n",
        "n = 1 #equation squert n becouse add more feature \n",
        "#equation x_0 + x_1 ,x_0 ^2 + x_1 ^2 x_0 * x_1 ...\n",
        "ploy = PolynomialFeatures(degree = n)\n",
        "xx = ploy.fit_transform(X)\n",
        "xx.shape"
      ],
      "execution_count": 52,
      "outputs": [
        {
          "output_type": "execute_result",
          "data": {
            "text/plain": [
              "(569, 31)"
            ]
          },
          "metadata": {
            "tags": []
          },
          "execution_count": 52
        }
      ]
    },
    {
      "cell_type": "markdown",
      "metadata": {
        "id": "HQSEQfQLPtfl",
        "colab_type": "text"
      },
      "source": [
        "#Feature selections"
      ]
    },
    {
      "cell_type": "code",
      "metadata": {
        "id": "QWj5tIGGQc2I",
        "colab_type": "code",
        "colab": {
          "base_uri": "https://localhost:8080/",
          "height": 82
        },
        "outputId": "613e2139-99fd-48eb-b8f9-1d4cd16e2c22"
      },
      "source": [
        "from sklearn.feature_selection import SelectPercentile \n",
        "from sklearn.feature_selection import chi2, f_classif\n",
        "X,y = load_breast_cancer(return_X_y=True)\n",
        "fs = SelectPercentile(score_func = f_classif, percentile =20) #chie , f_classif\n",
        "X = fs.fit_transform(X,y)\n",
        "fs.get_support() #selected feature are :"
      ],
      "execution_count": 5,
      "outputs": [
        {
          "output_type": "execute_result",
          "data": {
            "text/plain": [
              "array([False, False,  True, False, False, False, False,  True, False,\n",
              "       False, False, False, False, False, False, False, False, False,\n",
              "       False, False,  True, False,  True,  True, False, False, False,\n",
              "        True, False, False])"
            ]
          },
          "metadata": {
            "tags": []
          },
          "execution_count": 5
        }
      ]
    },
    {
      "cell_type": "code",
      "metadata": {
        "id": "MGCoTFbBSDQi",
        "colab_type": "code",
        "colab": {
          "base_uri": "https://localhost:8080/",
          "height": 33
        },
        "outputId": "5e709de5-5c4e-4c63-f41d-30770ed55bb7"
      },
      "source": [
        "from sklearn.feature_selection import GenericUnivariateSelect , SelectKBest # selectKbest diffirance math score_func = chi2,k = 5 \n",
        "model = GenericUnivariateSelect(score_func = chi2, mode='k_best',param = 5 )\n",
        "X = model.fit_transform(X,y)\n",
        "model.get_support()"
      ],
      "execution_count": 7,
      "outputs": [
        {
          "output_type": "execute_result",
          "data": {
            "text/plain": [
              "array([ True, False,  True,  True,  True,  True])"
            ]
          },
          "metadata": {
            "tags": []
          },
          "execution_count": 7
        }
      ]
    },
    {
      "cell_type": "code",
      "metadata": {
        "id": "aiUkoYL5lhAK",
        "colab_type": "code",
        "colab": {
          "base_uri": "https://localhost:8080/",
          "height": 82
        },
        "outputId": "0dee2d2f-a597-42e6-a8cd-6601bc1c21c7"
      },
      "source": [
        "from sklearn.feature_selection import SelectFromModel\n",
        "from sklearn.ensemble import RandomForestClassifier\n",
        "from sklearn.linear_model import LinearRegression \n",
        "X,y = load_breast_cancer(return_X_y=True)\n",
        "rfc = RandomForestClassifier(n_estimators=20)\n",
        "lr = LinearRegression()\n",
        "FS = SelectFromModel(estimator = lr) #switch name model only\n",
        "FS.fit(X,y)\n",
        "sfm= FS.transform(X)\n",
        "FS.get_support()"
      ],
      "execution_count": 15,
      "outputs": [
        {
          "output_type": "execute_result",
          "data": {
            "text/plain": [
              "array([False, False, False, False, False,  True, False,  True, False,\n",
              "       False, False, False, False, False,  True, False,  True,  True,\n",
              "       False,  True, False, False, False, False, False, False, False,\n",
              "       False, False,  True])"
            ]
          },
          "metadata": {
            "tags": []
          },
          "execution_count": 15
        }
      ]
    },
    {
      "cell_type": "markdown",
      "metadata": {
        "id": "umstFiNelCnY",
        "colab_type": "text"
      },
      "source": [
        "**Technical**"
      ]
    },
    {
      "cell_type": "code",
      "metadata": {
        "id": "IWhlG7SulBjK",
        "colab_type": "code",
        "colab": {}
      },
      "source": [
        "from sklearn.feature_selection import SelectPercentile ,chi2\n",
        "for i in range(10,100,5):\n",
        "  r=0\n",
        "  sel = SelectPercentile(score_func = chi2 , percentile= i )\n",
        "  sel.fit(X,y)\n",
        "  sel_feature = sel.transform(X)\n",
        "  sfeature = sel.get_support()\n",
        "  X_train , X_test , y_train , y_test =train_test_split(X,y,test_size=0.2,random_state=33,shuffle=False)\n",
        "  ModelLogisticRegression.fit(X_train,y_train)\n",
        "  res = ModelLogisticRegression.predict(X_test)\n",
        "  print('--',i)\n",
        "  print('accuracy = ',accuracy_score(y_test,res))\n",
        "  print('_______________________')"
      ],
      "execution_count": 0,
      "outputs": []
    },
    {
      "cell_type": "markdown",
      "metadata": {
        "id": "_kOUiEHYqJB4",
        "colab_type": "text"
      },
      "source": [
        "#Data scaling"
      ]
    },
    {
      "cell_type": "code",
      "metadata": {
        "id": "VyBnkUPAp91h",
        "colab_type": "code",
        "colab": {}
      },
      "source": [
        "from sklearn.preprocessing import MinMaxScaler , StandardScaler , Normalizer , Binarizer #MaxAbsScaler , FunctionTransformer , PolynomialFeature \n"
      ],
      "execution_count": 0,
      "outputs": []
    },
    {
      "cell_type": "markdown",
      "metadata": {
        "id": "ooAV5h7uroJs",
        "colab_type": "text"
      },
      "source": [
        "StandardScaler -> z = (x - u)/s\n"
      ]
    },
    {
      "cell_type": "code",
      "metadata": {
        "id": "G2YbFtQytVR7",
        "colab_type": "code",
        "colab": {}
      },
      "source": [
        "X,y = load_iris(return_X_y=True)"
      ],
      "execution_count": 0,
      "outputs": []
    },
    {
      "cell_type": "code",
      "metadata": {
        "id": "xZmBkk5AoAuF",
        "colab_type": "code",
        "colab": {
          "base_uri": "https://localhost:8080/",
          "height": 1000
        },
        "outputId": "c9eb2e4d-94f6-422c-8ffd-79ea69e72cbc"
      },
      "source": [
        "ss = StandardScaler() #optional copy=True, with_mean=True, with_std=True\n",
        "modelss = ss.fit_transform(X)\n",
        "X"
      ],
      "execution_count": 4,
      "outputs": [
        {
          "output_type": "execute_result",
          "data": {
            "text/plain": [
              "array([[5.1, 3.5, 1.4, 0.2],\n",
              "       [4.9, 3. , 1.4, 0.2],\n",
              "       [4.7, 3.2, 1.3, 0.2],\n",
              "       [4.6, 3.1, 1.5, 0.2],\n",
              "       [5. , 3.6, 1.4, 0.2],\n",
              "       [5.4, 3.9, 1.7, 0.4],\n",
              "       [4.6, 3.4, 1.4, 0.3],\n",
              "       [5. , 3.4, 1.5, 0.2],\n",
              "       [4.4, 2.9, 1.4, 0.2],\n",
              "       [4.9, 3.1, 1.5, 0.1],\n",
              "       [5.4, 3.7, 1.5, 0.2],\n",
              "       [4.8, 3.4, 1.6, 0.2],\n",
              "       [4.8, 3. , 1.4, 0.1],\n",
              "       [4.3, 3. , 1.1, 0.1],\n",
              "       [5.8, 4. , 1.2, 0.2],\n",
              "       [5.7, 4.4, 1.5, 0.4],\n",
              "       [5.4, 3.9, 1.3, 0.4],\n",
              "       [5.1, 3.5, 1.4, 0.3],\n",
              "       [5.7, 3.8, 1.7, 0.3],\n",
              "       [5.1, 3.8, 1.5, 0.3],\n",
              "       [5.4, 3.4, 1.7, 0.2],\n",
              "       [5.1, 3.7, 1.5, 0.4],\n",
              "       [4.6, 3.6, 1. , 0.2],\n",
              "       [5.1, 3.3, 1.7, 0.5],\n",
              "       [4.8, 3.4, 1.9, 0.2],\n",
              "       [5. , 3. , 1.6, 0.2],\n",
              "       [5. , 3.4, 1.6, 0.4],\n",
              "       [5.2, 3.5, 1.5, 0.2],\n",
              "       [5.2, 3.4, 1.4, 0.2],\n",
              "       [4.7, 3.2, 1.6, 0.2],\n",
              "       [4.8, 3.1, 1.6, 0.2],\n",
              "       [5.4, 3.4, 1.5, 0.4],\n",
              "       [5.2, 4.1, 1.5, 0.1],\n",
              "       [5.5, 4.2, 1.4, 0.2],\n",
              "       [4.9, 3.1, 1.5, 0.2],\n",
              "       [5. , 3.2, 1.2, 0.2],\n",
              "       [5.5, 3.5, 1.3, 0.2],\n",
              "       [4.9, 3.6, 1.4, 0.1],\n",
              "       [4.4, 3. , 1.3, 0.2],\n",
              "       [5.1, 3.4, 1.5, 0.2],\n",
              "       [5. , 3.5, 1.3, 0.3],\n",
              "       [4.5, 2.3, 1.3, 0.3],\n",
              "       [4.4, 3.2, 1.3, 0.2],\n",
              "       [5. , 3.5, 1.6, 0.6],\n",
              "       [5.1, 3.8, 1.9, 0.4],\n",
              "       [4.8, 3. , 1.4, 0.3],\n",
              "       [5.1, 3.8, 1.6, 0.2],\n",
              "       [4.6, 3.2, 1.4, 0.2],\n",
              "       [5.3, 3.7, 1.5, 0.2],\n",
              "       [5. , 3.3, 1.4, 0.2],\n",
              "       [7. , 3.2, 4.7, 1.4],\n",
              "       [6.4, 3.2, 4.5, 1.5],\n",
              "       [6.9, 3.1, 4.9, 1.5],\n",
              "       [5.5, 2.3, 4. , 1.3],\n",
              "       [6.5, 2.8, 4.6, 1.5],\n",
              "       [5.7, 2.8, 4.5, 1.3],\n",
              "       [6.3, 3.3, 4.7, 1.6],\n",
              "       [4.9, 2.4, 3.3, 1. ],\n",
              "       [6.6, 2.9, 4.6, 1.3],\n",
              "       [5.2, 2.7, 3.9, 1.4],\n",
              "       [5. , 2. , 3.5, 1. ],\n",
              "       [5.9, 3. , 4.2, 1.5],\n",
              "       [6. , 2.2, 4. , 1. ],\n",
              "       [6.1, 2.9, 4.7, 1.4],\n",
              "       [5.6, 2.9, 3.6, 1.3],\n",
              "       [6.7, 3.1, 4.4, 1.4],\n",
              "       [5.6, 3. , 4.5, 1.5],\n",
              "       [5.8, 2.7, 4.1, 1. ],\n",
              "       [6.2, 2.2, 4.5, 1.5],\n",
              "       [5.6, 2.5, 3.9, 1.1],\n",
              "       [5.9, 3.2, 4.8, 1.8],\n",
              "       [6.1, 2.8, 4. , 1.3],\n",
              "       [6.3, 2.5, 4.9, 1.5],\n",
              "       [6.1, 2.8, 4.7, 1.2],\n",
              "       [6.4, 2.9, 4.3, 1.3],\n",
              "       [6.6, 3. , 4.4, 1.4],\n",
              "       [6.8, 2.8, 4.8, 1.4],\n",
              "       [6.7, 3. , 5. , 1.7],\n",
              "       [6. , 2.9, 4.5, 1.5],\n",
              "       [5.7, 2.6, 3.5, 1. ],\n",
              "       [5.5, 2.4, 3.8, 1.1],\n",
              "       [5.5, 2.4, 3.7, 1. ],\n",
              "       [5.8, 2.7, 3.9, 1.2],\n",
              "       [6. , 2.7, 5.1, 1.6],\n",
              "       [5.4, 3. , 4.5, 1.5],\n",
              "       [6. , 3.4, 4.5, 1.6],\n",
              "       [6.7, 3.1, 4.7, 1.5],\n",
              "       [6.3, 2.3, 4.4, 1.3],\n",
              "       [5.6, 3. , 4.1, 1.3],\n",
              "       [5.5, 2.5, 4. , 1.3],\n",
              "       [5.5, 2.6, 4.4, 1.2],\n",
              "       [6.1, 3. , 4.6, 1.4],\n",
              "       [5.8, 2.6, 4. , 1.2],\n",
              "       [5. , 2.3, 3.3, 1. ],\n",
              "       [5.6, 2.7, 4.2, 1.3],\n",
              "       [5.7, 3. , 4.2, 1.2],\n",
              "       [5.7, 2.9, 4.2, 1.3],\n",
              "       [6.2, 2.9, 4.3, 1.3],\n",
              "       [5.1, 2.5, 3. , 1.1],\n",
              "       [5.7, 2.8, 4.1, 1.3],\n",
              "       [6.3, 3.3, 6. , 2.5],\n",
              "       [5.8, 2.7, 5.1, 1.9],\n",
              "       [7.1, 3. , 5.9, 2.1],\n",
              "       [6.3, 2.9, 5.6, 1.8],\n",
              "       [6.5, 3. , 5.8, 2.2],\n",
              "       [7.6, 3. , 6.6, 2.1],\n",
              "       [4.9, 2.5, 4.5, 1.7],\n",
              "       [7.3, 2.9, 6.3, 1.8],\n",
              "       [6.7, 2.5, 5.8, 1.8],\n",
              "       [7.2, 3.6, 6.1, 2.5],\n",
              "       [6.5, 3.2, 5.1, 2. ],\n",
              "       [6.4, 2.7, 5.3, 1.9],\n",
              "       [6.8, 3. , 5.5, 2.1],\n",
              "       [5.7, 2.5, 5. , 2. ],\n",
              "       [5.8, 2.8, 5.1, 2.4],\n",
              "       [6.4, 3.2, 5.3, 2.3],\n",
              "       [6.5, 3. , 5.5, 1.8],\n",
              "       [7.7, 3.8, 6.7, 2.2],\n",
              "       [7.7, 2.6, 6.9, 2.3],\n",
              "       [6. , 2.2, 5. , 1.5],\n",
              "       [6.9, 3.2, 5.7, 2.3],\n",
              "       [5.6, 2.8, 4.9, 2. ],\n",
              "       [7.7, 2.8, 6.7, 2. ],\n",
              "       [6.3, 2.7, 4.9, 1.8],\n",
              "       [6.7, 3.3, 5.7, 2.1],\n",
              "       [7.2, 3.2, 6. , 1.8],\n",
              "       [6.2, 2.8, 4.8, 1.8],\n",
              "       [6.1, 3. , 4.9, 1.8],\n",
              "       [6.4, 2.8, 5.6, 2.1],\n",
              "       [7.2, 3. , 5.8, 1.6],\n",
              "       [7.4, 2.8, 6.1, 1.9],\n",
              "       [7.9, 3.8, 6.4, 2. ],\n",
              "       [6.4, 2.8, 5.6, 2.2],\n",
              "       [6.3, 2.8, 5.1, 1.5],\n",
              "       [6.1, 2.6, 5.6, 1.4],\n",
              "       [7.7, 3. , 6.1, 2.3],\n",
              "       [6.3, 3.4, 5.6, 2.4],\n",
              "       [6.4, 3.1, 5.5, 1.8],\n",
              "       [6. , 3. , 4.8, 1.8],\n",
              "       [6.9, 3.1, 5.4, 2.1],\n",
              "       [6.7, 3.1, 5.6, 2.4],\n",
              "       [6.9, 3.1, 5.1, 2.3],\n",
              "       [5.8, 2.7, 5.1, 1.9],\n",
              "       [6.8, 3.2, 5.9, 2.3],\n",
              "       [6.7, 3.3, 5.7, 2.5],\n",
              "       [6.7, 3. , 5.2, 2.3],\n",
              "       [6.3, 2.5, 5. , 1.9],\n",
              "       [6.5, 3. , 5.2, 2. ],\n",
              "       [6.2, 3.4, 5.4, 2.3],\n",
              "       [5.9, 3. , 5.1, 1.8]])"
            ]
          },
          "metadata": {
            "tags": []
          },
          "execution_count": 4
        }
      ]
    },
    {
      "cell_type": "code",
      "metadata": {
        "id": "DeuanfoWs6zd",
        "colab_type": "code",
        "colab": {
          "base_uri": "https://localhost:8080/",
          "height": 228
        },
        "outputId": "02fff024-8046-4974-f614-0e9f55f5925b"
      },
      "source": [
        "mms = MinMaxScaler(feature_range = (0,1))\n",
        "X = mms.fit_transform(X)\n",
        "X"
      ],
      "execution_count": 7,
      "outputs": [
        {
          "output_type": "execute_result",
          "data": {
            "text/plain": [
              "array([[0.54598853, 0.73111332, 0.62077552, 0.66831017, 0.45069799,\n",
              "        0.91202749],\n",
              "       [0.61578329, 0.34875746, 0.60690146, 0.53981772, 0.43521431,\n",
              "        0.63917526],\n",
              "       [0.59574321, 0.63568588, 0.55638563, 0.50844166, 0.37450845,\n",
              "        0.83505155],\n",
              "       ...,\n",
              "       [0.44578813, 0.26351889, 0.39309854, 0.3799492 , 0.23073142,\n",
              "        0.48728522],\n",
              "       [0.66553797, 0.7554672 , 0.63358236, 0.66831017, 0.402035  ,\n",
              "        0.91065292],\n",
              "       [0.02853984, 0.        , 0.05428673, 0.04357787, 0.02049744,\n",
              "        0.        ]])"
            ]
          },
          "metadata": {
            "tags": []
          },
          "execution_count": 7
        }
      ]
    },
    {
      "cell_type": "code",
      "metadata": {
        "id": "yp40H5x2rGWB",
        "colab_type": "code",
        "colab": {
          "base_uri": "https://localhost:8080/",
          "height": 228
        },
        "outputId": "7ca88647-bf51-4fca-fff5-8c1bbb911b33"
      },
      "source": [
        "norm = Normalizer(norm ='max') #l1,l2,max\n",
        "X = norm.fit_transform(X)\n",
        "X"
      ],
      "execution_count": 9,
      "outputs": [
        {
          "output_type": "execute_result",
          "data": {
            "text/plain": [
              "array([[0.57129576, 0.02484366, 0.59865359, ..., 1.        , 0.65618904,\n",
              "        0.45926682],\n",
              "       [1.        , 0.42381387, 0.95745715, ..., 0.99382839, 0.36319924,\n",
              "        0.34654441],\n",
              "       [0.72030952, 0.46734887, 0.71342088, ..., 1.        , 0.48345027,\n",
              "        0.25559264],\n",
              "       ...,\n",
              "       [0.73281297, 1.        , 0.71758056, ..., 0.78437801, 0.20720035,\n",
              "        0.24452587],\n",
              "       [0.70780462, 0.72860944, 0.73083604, ..., 1.        , 0.5459179 ,\n",
              "        0.49669347],\n",
              "       [0.07351377, 1.        , 0.05690647, ..., 0.        , 0.51332036,\n",
              "        0.20075327]])"
            ]
          },
          "metadata": {
            "tags": []
          },
          "execution_count": 9
        }
      ]
    },
    {
      "cell_type": "code",
      "metadata": {
        "id": "ogadCg4ttyUW",
        "colab_type": "code",
        "colab": {
          "base_uri": "https://localhost:8080/",
          "height": 342
        },
        "outputId": "70df4adf-93eb-4b21-d3fd-964fde9c7ede"
      },
      "source": [
        "bi = Binarizer(threshold=1.0)\n",
        "X = bi.fit_transform(X)"
      ],
      "execution_count": 15,
      "outputs": [
        {
          "output_type": "execute_result",
          "data": {
            "text/plain": [
              "array([[0., 0., 0., 0., 0., 0., 0., 0., 0., 0., 0., 0., 0., 0., 0., 0.,\n",
              "        0., 0., 0., 0., 0., 0., 0., 0., 0., 0., 0., 0., 0., 0.],\n",
              "       [0., 0., 0., 0., 0., 0., 0., 0., 0., 0., 0., 0., 0., 0., 0., 0.,\n",
              "        0., 0., 0., 0., 0., 0., 0., 0., 0., 0., 0., 0., 0., 0.],\n",
              "       [0., 0., 0., 0., 0., 0., 0., 0., 0., 0., 0., 0., 0., 0., 0., 0.,\n",
              "        0., 0., 0., 0., 0., 0., 0., 0., 0., 0., 0., 0., 0., 0.],\n",
              "       [0., 0., 0., 0., 0., 0., 0., 0., 0., 0., 0., 0., 0., 0., 0., 0.,\n",
              "        0., 0., 0., 0., 0., 0., 0., 0., 0., 0., 0., 0., 0., 0.],\n",
              "       [0., 0., 0., 0., 0., 0., 0., 0., 0., 0., 0., 0., 0., 0., 0., 0.,\n",
              "        0., 0., 0., 0., 0., 0., 0., 0., 0., 0., 0., 0., 0., 0.],\n",
              "       [0., 0., 0., 0., 0., 0., 0., 0., 0., 0., 0., 0., 0., 0., 0., 0.,\n",
              "        0., 0., 0., 0., 0., 0., 0., 0., 0., 0., 0., 0., 0., 0.],\n",
              "       [0., 0., 0., 0., 0., 0., 0., 0., 0., 0., 0., 0., 0., 0., 0., 0.,\n",
              "        0., 0., 0., 0., 0., 0., 0., 0., 0., 0., 0., 0., 0., 0.],\n",
              "       [0., 0., 0., 0., 0., 0., 0., 0., 0., 0., 0., 0., 0., 0., 0., 0.,\n",
              "        0., 0., 0., 0., 0., 0., 0., 0., 0., 0., 0., 0., 0., 0.],\n",
              "       [0., 0., 0., 0., 0., 0., 0., 0., 0., 0., 0., 0., 0., 0., 0., 0.,\n",
              "        0., 0., 0., 0., 0., 0., 0., 0., 0., 0., 0., 0., 0., 0.],\n",
              "       [0., 0., 0., 0., 0., 0., 0., 0., 0., 0., 0., 0., 0., 0., 0., 0.,\n",
              "        0., 0., 0., 0., 0., 0., 0., 0., 0., 0., 0., 0., 0., 0.]])"
            ]
          },
          "metadata": {
            "tags": []
          },
          "execution_count": 15
        }
      ]
    },
    {
      "cell_type": "code",
      "metadata": {
        "id": "39Th2HKOufLc",
        "colab_type": "code",
        "colab": {
          "base_uri": "https://localhost:8080/",
          "height": 228
        },
        "outputId": "3f8d9db2-cd92-47f2-e1e9-37723eedcc2b"
      },
      "source": [
        "X"
      ],
      "execution_count": 5,
      "outputs": [
        {
          "output_type": "execute_result",
          "data": {
            "text/plain": [
              "array([[0.52103744, 0.0226581 , 0.54598853, ..., 0.91202749, 0.59846245,\n",
              "        0.41886396],\n",
              "       [0.64314449, 0.27257355, 0.61578329, ..., 0.63917526, 0.23358959,\n",
              "        0.22287813],\n",
              "       [0.60149557, 0.3902604 , 0.59574321, ..., 0.83505155, 0.40370589,\n",
              "        0.21343303],\n",
              "       ...,\n",
              "       [0.45525108, 0.62123774, 0.44578813, ..., 0.48728522, 0.12872068,\n",
              "        0.1519087 ],\n",
              "       [0.64456434, 0.66351031, 0.66553797, ..., 0.91065292, 0.49714173,\n",
              "        0.45231536],\n",
              "       [0.03686876, 0.50152181, 0.02853984, ..., 0.        , 0.25744136,\n",
              "        0.10068215]])"
            ]
          },
          "metadata": {
            "tags": []
          },
          "execution_count": 5
        }
      ]
    },
    {
      "cell_type": "markdown",
      "metadata": {
        "id": "Zr_4rjgcT-ek",
        "colab_type": "text"
      },
      "source": [
        "#Split Data"
      ]
    },
    {
      "cell_type": "code",
      "metadata": {
        "id": "t7-L-TS0T8h8",
        "colab_type": "code",
        "colab": {}
      },
      "source": [
        "from sklearn.model_selection import train_test_split #, KFold , TimeSeriesSplit , ShuffleSplit\n",
        "X_train , X_test , y_train , y_test =train_test_split(X,y,test_size=0.2,random_state=33,shuffle=False)"
      ],
      "execution_count": 0,
      "outputs": []
    },
    {
      "cell_type": "code",
      "metadata": {
        "id": "eweA5WpWUmVK",
        "colab_type": "code",
        "colab": {
          "base_uri": "https://localhost:8080/",
          "height": 115
        },
        "outputId": "894422bb-e9f3-4cd1-d794-ce39cf6799ce"
      },
      "source": [
        "ax,ay = np.arange(15).reshape((5,3)),range(5)\n",
        "ay=list(ay)\n",
        "print(ax)\n",
        "print(ay)"
      ],
      "execution_count": 23,
      "outputs": [
        {
          "output_type": "stream",
          "text": [
            "[[ 0  1  2]\n",
            " [ 3  4  5]\n",
            " [ 6  7  8]\n",
            " [ 9 10 11]\n",
            " [12 13 14]]\n",
            "[0, 1, 2, 3, 4]\n"
          ],
          "name": "stdout"
        }
      ]
    },
    {
      "cell_type": "markdown",
      "metadata": {
        "id": "ZSN3rNT5eo2B",
        "colab_type": "text"
      },
      "source": [
        "#Metrics"
      ]
    },
    {
      "cell_type": "code",
      "metadata": {
        "id": "eMMApUQIer3d",
        "colab_type": "code",
        "colab": {}
      },
      "source": [
        "from sklearn.metrics import confusion_matrix , classification_report , f1_score , accuracy_score , roc_curve \n",
        "from sklearn.metrics import mean_absolute_error , mean_squared_error , median_absolute_error"
      ],
      "execution_count": 0,
      "outputs": []
    },
    {
      "cell_type": "markdown",
      "metadata": {
        "id": "GUp8XY9DY6K4",
        "colab_type": "text"
      },
      "source": [
        "#Algorithm"
      ]
    },
    {
      "cell_type": "markdown",
      "metadata": {
        "id": "-8OJIEADfJA-",
        "colab_type": "text"
      },
      "source": [
        "#linear_model"
      ]
    },
    {
      "cell_type": "code",
      "metadata": {
        "id": "swuyPgJmZHbQ",
        "colab_type": "code",
        "colab": {}
      },
      "source": [
        "from sklearn.linear_model import LinearRegression ,Ridge ,Lasso , SGDRegressor , LogisticRegression , SGDClassifier"
      ],
      "execution_count": 0,
      "outputs": []
    },
    {
      "cell_type": "markdown",
      "metadata": {
        "id": "d1ieBdRwZCj7",
        "colab_type": "text"
      },
      "source": [
        "**LinearRegression**"
      ]
    },
    {
      "cell_type": "code",
      "metadata": {
        "id": "GQDgu0VaVJOX",
        "colab_type": "code",
        "colab": {}
      },
      "source": [
        "modelLR = LinearRegression(fit_intercept=True, normalize=False,copy_X=True,n_jobs=-1).fit(X_train,y_train) #n_jobs = -1 ,mean run all computation cpumode"
      ],
      "execution_count": 0,
      "outputs": []
    },
    {
      "cell_type": "code",
      "metadata": {
        "id": "kCkTil7ia4cp",
        "colab_type": "code",
        "colab": {
          "base_uri": "https://localhost:8080/",
          "height": 33
        },
        "outputId": "1afd69ae-b60f-4fe4-c334-bab8cee18501"
      },
      "source": [
        "modelmodelLR.score(X_train,y_train)\n",
        "y_pred = modelLR.predict(X_test)\n",
        "MAE = mean_absolute_error(y_test , y_pred,multioutput='uniform_average')"
      ],
      "execution_count": 34,
      "outputs": [
        {
          "output_type": "execute_result",
          "data": {
            "text/plain": [
              "0.19976062892771168"
            ]
          },
          "metadata": {
            "tags": []
          },
          "execution_count": 34
        }
      ]
    },
    {
      "cell_type": "code",
      "metadata": {
        "id": "OicLZIVRcInW",
        "colab_type": "code",
        "colab": {
          "base_uri": "https://localhost:8080/",
          "height": 147
        },
        "outputId": "4ca25628-0e28-4371-e0f0-f10a08aada58"
      },
      "source": [
        "modelLR.intercept_ #intercept with line x \n",
        "modelLR.coef_ #parameter use in equation"
      ],
      "execution_count": 37,
      "outputs": [
        {
          "output_type": "execute_result",
          "data": {
            "text/plain": [
              "array([ 1.65870138e-01, -1.72587914e-02, -1.54978769e-02, -3.46640953e-04,\n",
              "       -8.97143351e-01,  3.94975696e+00, -1.22035769e+00, -1.26884756e+00,\n",
              "        2.43145283e-01, -1.30278942e+00, -3.68213873e-01, -2.33070004e-02,\n",
              "        2.90149664e-02,  6.97679636e-05, -1.41345480e+01,  8.30402654e-01,\n",
              "        3.57911690e+00, -1.20043497e+01, -5.40282116e-01,  4.66446576e+00,\n",
              "       -1.87661551e-01,  9.27221866e-04, -1.20258139e-03,  1.14681704e-03,\n",
              "       -8.05972310e-01, -1.79262318e-01, -4.13909492e-01, -6.23187501e-01,\n",
              "       -5.28724808e-01, -3.48464110e+00])"
            ]
          },
          "metadata": {
            "tags": []
          },
          "execution_count": 37
        }
      ]
    },
    {
      "cell_type": "markdown",
      "metadata": {
        "id": "PEyK2HzMiIdm",
        "colab_type": "text"
      },
      "source": [
        "**Ridge Regression**"
      ]
    },
    {
      "cell_type": "code",
      "metadata": {
        "id": "JBWPHoPYfFWh",
        "colab_type": "code",
        "colab": {}
      },
      "source": [
        "model = Ridge(alpha=0)  # if increase alpha increase regularization  "
      ],
      "execution_count": 0,
      "outputs": []
    },
    {
      "cell_type": "markdown",
      "metadata": {
        "id": "7Fq8W7Cek3BW",
        "colab_type": "text"
      },
      "source": [
        "**Lasso Regression**"
      ]
    },
    {
      "cell_type": "markdown",
      "metadata": {
        "id": "rBRTnczCk6xE",
        "colab_type": "text"
      },
      "source": [
        "هذه نفس عمل الريدغ ولكن , ال لاسو لا تستخدم التربيع عند حساب معادلة الخطا على عكس ريدغ"
      ]
    },
    {
      "cell_type": "markdown",
      "metadata": {
        "id": "FkP9KbxYlpLk",
        "colab_type": "text"
      },
      "source": [
        "**SGDRegression**"
      ]
    },
    {
      "cell_type": "markdown",
      "metadata": {
        "id": "hltO3nk7l8tw",
        "colab_type": "text"
      },
      "source": [
        "loss = squard_loss or huber or epsilon_insensitive or squared_epsilon_insensitive -> this for calculate cost_function \n",
        "\n",
        "penaslty = None , l1,l2,elasticnet -> a way calculate regularization \n",
        "\n",
        "learning_rate = parameter learn \n",
        "\n",
        "max_iter = number max iterater try\n",
        "\n",
        "alpha = regularization\n",
        "\n"
      ]
    },
    {
      "cell_type": "code",
      "metadata": {
        "id": "cQNCs3Uvl8Kd",
        "colab_type": "code",
        "colab": {}
      },
      "source": [
        "modelSGDR = SGDRegressor(fit_intercept=True,loss = 'huber',penalty='l1',learning_rate=0.1,alpha=1.0,random_state=0,n_jobs=-1).fit(X_train,y_train)"
      ],
      "execution_count": 0,
      "outputs": []
    },
    {
      "cell_type": "markdown",
      "metadata": {
        "id": "FVIh9sGjV9M1",
        "colab_type": "text"
      },
      "source": [
        "#Logistic Regression"
      ]
    },
    {
      "cell_type": "markdown",
      "metadata": {
        "id": "2j_2LdqraZBd",
        "colab_type": "text"
      },
      "source": [
        "tol = مقدار سماحيى بالخطأ"
      ]
    },
    {
      "cell_type": "code",
      "metadata": {
        "id": "DDo1NKQPl79A",
        "colab_type": "code",
        "colab": {
          "base_uri": "https://localhost:8080/",
          "height": 147
        },
        "outputId": "124ef629-b729-4b0b-ce9f-4f277a20a499"
      },
      "source": [
        "%%time\n",
        "ModelLogisticRegression = LogisticRegression(penalty='l2',solver = 'saga', C =10 ,tol = 0.0001 ,random_state=0).fit(X_train,y_train)\n",
        "ModelLogisticRegression.score(X_train,y_train)\n",
        "ModelLogisticRegression.classes_\n",
        "ModelLogisticRegression.n_iter_\n",
        "y_pred = ModelLogisticRegression.predict(X_test)\n",
        "ConfusionMatrix = confusion_matrix(y_pred , y_test)\n",
        "fpr,tpr,threshold = roc_curve(y_pred,y_test)\n",
        "print('fpr',fpr)\n",
        "print('tpr',tpr)\n",
        "print('threshold',threshold)\n",
        "print(accuracy_score(y_pred,y_test))"
      ],
      "execution_count": 31,
      "outputs": [
        {
          "output_type": "stream",
          "text": [
            "fpr [0.         0.07142857 1.        ]\n",
            "tpr [0. 1. 1.]\n",
            "threshold [2 1 0]\n",
            "0.9824561403508771\n",
            "CPU times: user 31.1 ms, sys: 3.12 ms, total: 34.2 ms\n",
            "Wall time: 32.4 ms\n"
          ],
          "name": "stdout"
        },
        {
          "output_type": "stream",
          "text": [
            "/usr/local/lib/python3.6/dist-packages/sklearn/linear_model/_sag.py:330: ConvergenceWarning: The max_iter was reached which means the coef_ did not converge\n",
            "  \"the coef_ did not converge\", ConvergenceWarning)\n"
          ],
          "name": "stderr"
        }
      ]
    },
    {
      "cell_type": "code",
      "metadata": {
        "id": "2I-irXjClYSk",
        "colab_type": "code",
        "colab": {
          "base_uri": "https://localhost:8080/",
          "height": 33
        },
        "outputId": "7c75d3d9-117f-4d1c-9cde-917c9505181b"
      },
      "source": [
        "modelsgdclassifier = SGDClassifier( penalty = 'l2' , loss = 'squared_loss',learning_rate='optimal',random_state=0 ).fit(X_train,y_train)\n",
        "modelsgdclassifier.score(X_train,y_train)\n",
        "print(modelsgdclassifier.loss_function_)"
      ],
      "execution_count": 55,
      "outputs": [
        {
          "output_type": "stream",
          "text": [
            "<sklearn.linear_model._sgd_fast.SquaredLoss object at 0x7f9ccf863108>\n"
          ],
          "name": "stdout"
        }
      ]
    },
    {
      "cell_type": "markdown",
      "metadata": {
        "id": "LzCd7tMPhbgQ",
        "colab_type": "text"
      },
      "source": [
        "#NeuralNetwork"
      ]
    },
    {
      "cell_type": "markdown",
      "metadata": {
        "id": "LgLIXrIPp_vT",
        "colab_type": "text"
      },
      "source": [
        "**MLPRegressor**"
      ]
    },
    {
      "cell_type": "code",
      "metadata": {
        "id": "WOsUIZ-xg_76",
        "colab_type": "code",
        "colab": {}
      },
      "source": [
        "from sklearn.neural_network import MLPRegressor"
      ],
      "execution_count": 0,
      "outputs": []
    },
    {
      "cell_type": "markdown",
      "metadata": {
        "id": "MsJGrXcL0mrN",
        "colab_type": "text"
      },
      "source": [
        "**parameters**\n",
        "hidden_layer_size= (number_neurons , number layers ) \n",
        "---\n",
        "activation = ('relu' , 'tanh' , 'logistic' , 'identity')\n",
        "---\n",
        "solver  = a way work optimization ('sgd','adam','lbfgs')\n",
        "---\n",
        "epsilon = تستخدم مع ادم في سولفر \n",
        "\n",
        "alpha = reguler\n",
        "\n",
        "batch_size = size mini batch\n",
        "\n",
        "early_stopping =  الايقاف المبكر Treu,False\n",
        "\n",
        "learning_rate = 'constant' , 'adaptive' \n",
        "\n",
        "learning_rate_init = used with adam , sgd , default 0.001\n",
        "\n",
        "max_iter ,shuffle \n",
        "\n",
        "\n",
        "**attributes**\n",
        "loss_float\n",
        "The current loss computed with the loss function.\n",
        "\n",
        "coefs_list, length n_layers - 1\n",
        "The ith element in the list represents the weight matrix corresponding to layer i.\n",
        "\n",
        "intercepts_list, length n_layers - 1\n",
        "The ith element in the list represents the bias vector corresponding to layer i + 1.\n",
        "\n",
        "n_iter_int,\n",
        "The number of iterations the solver has ran.\n",
        "\n",
        "n_layers_int\n",
        "Number of layers.\n",
        "\n",
        "n_outputs_int\n",
        "Number of outputs.\n",
        "\n",
        "out_activation_string\n",
        "Name of the output activation function.\n"
      ]
    },
    {
      "cell_type": "code",
      "metadata": {
        "id": "Dya5WshXYZLH",
        "colab_type": "code",
        "colab": {
          "base_uri": "https://localhost:8080/",
          "height": 33
        },
        "outputId": "2b12a71a-cca1-4e3d-953b-18b101edef31"
      },
      "source": [
        "modelmlpregressor = MLPRegressor(hidden_layer_sizes = (200,4),activation = 'identity',solver ='sgd',max_iter = 2000,learning_rate = 'adaptive',alpha = 0.01 ,random_state=0)\n",
        "modelmlpregressor.fit(X_train,y_train)\n",
        "modelmlpregressor.score(X_train,y_train)\n",
        "#modelmlpregressor.n_layers_"
      ],
      "execution_count": 25,
      "outputs": [
        {
          "output_type": "execute_result",
          "data": {
            "text/plain": [
              "0.9130532975966785"
            ]
          },
          "metadata": {
            "tags": []
          },
          "execution_count": 25
        }
      ]
    },
    {
      "cell_type": "markdown",
      "metadata": {
        "id": "DsNE652Vvim7",
        "colab_type": "text"
      },
      "source": [
        "**MPLClassifier**"
      ]
    },
    {
      "cell_type": "markdown",
      "metadata": {
        "id": "KDBrLq3K6ni8",
        "colab_type": "text"
      },
      "source": [
        "classes_: ndarray or list of ndarray of shape (n_classes,)\n",
        "Class labels for each output.\n",
        "\n",
        "loss_: float\n",
        "The current loss computed with the loss function.\n",
        "\n",
        "coefs_: list, length n_layers - 1\n",
        "The ith element in the list represents the weight matrix corresponding to layer i.\n",
        "\n",
        "intercepts_: list, length n_layers - 1\n",
        "The ith element in the list represents the bias vector corresponding to layer i + 1.\n",
        "\n",
        "n_iter_: int,\n",
        "The number of iterations the solver has ran.\n",
        "\n",
        "n_layers_: int\n",
        "Number of layers.\n",
        "\n",
        "n_outputs_: int\n",
        "Number of outputs.\n",
        "\n",
        "out_activation_: string\n",
        "Name of the output activation function."
      ]
    },
    {
      "cell_type": "code",
      "metadata": {
        "id": "hLg1UlJQviCK",
        "colab_type": "code",
        "colab": {}
      },
      "source": [
        "from sklearn.neural_network import MLPClassifier"
      ],
      "execution_count": 0,
      "outputs": []
    },
    {
      "cell_type": "code",
      "metadata": {
        "id": "hHdihpAkxfdO",
        "colab_type": "code",
        "colab": {}
      },
      "source": [
        "X,y = load_breast_cancer(return_X_y=True)\n",
        "from sklearn.model_selection import train_test_split\n",
        "X_train,X_test , y_train , y_test = train_test_split(X,y,test_size=0.2,random_state =20)\n"
      ],
      "execution_count": 0,
      "outputs": []
    },
    {
      "cell_type": "code",
      "metadata": {
        "id": "AV-ke6Amw8aY",
        "colab_type": "code",
        "colab": {
          "base_uri": "https://localhost:8080/",
          "height": 33
        },
        "outputId": "b0c37a90-07bd-4607-adc6-9ad9948c6880"
      },
      "source": [
        "modelmlpregressor = MLPClassifier(hidden_layer_sizes = (200,4),activation = 'logistic',solver ='adam',max_iter = 2000,learning_rate = 'constant',alpha = 0.001 ,random_state=0)\n",
        "modelmlpregressor.fit(X_train,y_train)\n",
        "modelmlpregressor.score(X_train,y_train)\n",
        "#modelmlpregressor.loss_"
      ],
      "execution_count": 23,
      "outputs": [
        {
          "output_type": "execute_result",
          "data": {
            "text/plain": [
              "0.9538461538461539"
            ]
          },
          "metadata": {
            "tags": []
          },
          "execution_count": 23
        }
      ]
    },
    {
      "cell_type": "code",
      "metadata": {
        "id": "ZVDSD_iDw8pg",
        "colab_type": "code",
        "colab": {}
      },
      "source": [
        ""
      ],
      "execution_count": 0,
      "outputs": []
    },
    {
      "cell_type": "markdown",
      "metadata": {
        "id": "YBbYwW_0dO2C",
        "colab_type": "text"
      },
      "source": [
        "#GRAPH"
      ]
    },
    {
      "cell_type": "code",
      "metadata": {
        "id": "Ygddo9NPdWWG",
        "colab_type": "code",
        "colab": {
          "base_uri": "https://localhost:8080/",
          "height": 281
        },
        "outputId": "a0351b89-fc85-432d-d81b-39fb62b77a12"
      },
      "source": [
        "sns.countplot(y)"
      ],
      "execution_count": 16,
      "outputs": [
        {
          "output_type": "execute_result",
          "data": {
            "text/plain": [
              "<matplotlib.axes._subplots.AxesSubplot at 0x7f9cd192ec18>"
            ]
          },
          "metadata": {
            "tags": []
          },
          "execution_count": 16
        },
        {
          "output_type": "display_data",
          "data": {
            "image/png": "[encoded data removed]",
            "text/plain": [
              "<Figure size 432x288 with 1 Axes>"
            ]
          },
          "metadata": {
            "tags": [],
            "needs_background": "light"
          }
        }
      ]
    },
    {
      "cell_type": "code",
      "metadata": {
        "id": "XrJrco41az8i",
        "colab_type": "code",
        "colab": {
          "base_uri": "https://localhost:8080/",
          "height": 265
        },
        "outputId": "5113fb6f-2a17-43b9-a952-ea97b3159110"
      },
      "source": [
        "sns.heatmap(ConfusionMatrix , center = False)\n",
        "plt.show()"
      ],
      "execution_count": 21,
      "outputs": [
        {
          "output_type": "display_data",
          "data": {
            "image/png": "[encoded data removed]",
            "text/plain": [
              "<Figure size 432x288 with 2 Axes>"
            ]
          },
          "metadata": {
            "tags": [],
            "needs_background": "light"
          }
        }
      ]
    },
    {
      "cell_type": "code",
      "metadata": {
        "id": "_jV8Zsp6b30F",
        "colab_type": "code",
        "colab": {}
      },
      "source": [
        "sns.concat()"
      ],
      "execution_count": 0,
      "outputs": []
    },
    {
      "cell_type": "code",
      "metadata": {
        "id": "deEahjiBvnSH",
        "colab_type": "code",
        "colab": {}
      },
      "source": [
        "fig = plt.figure()\n",
        "ax1 = fig.add_subplot(111)\n",
        "ax1.scatter(X_train,y_train, s=1 , c='r', marker = '*',label = \"real data\")\n",
        "ax1.scatter(X_test,y_pred, s=10 , c='r', marker = '*',label = \"predict data \")\n",
        "plt.show()"
      ],
      "execution_count": 0,
      "outputs": []
    },
    {
      "cell_type": "markdown",
      "metadata": {
        "id": "wYyyQNgavKaU",
        "colab_type": "text"
      },
      "source": [
        "#Techincal"
      ]
    },
    {
      "cell_type": "code",
      "metadata": {
        "id": "XYk85SCuvKHa",
        "colab_type": "code",
        "colab": {}
      },
      "source": [
        "GeneratData = np.arange(0,1,0.05).reshape(-1,1)"
      ],
      "execution_count": 0,
      "outputs": []
    },
    {
      "cell_type": "code",
      "metadata": {
        "id": "8q1y7KDivegB",
        "colab_type": "code",
        "colab": {}
      },
      "source": [
        ""
      ],
      "execution_count": 0,
      "outputs": []
    }
  ]
}